{
 "cells": [
  {
   "cell_type": "code",
   "execution_count": 1,
   "metadata": {},
   "outputs": [],
   "source": [
    "from bs4 import BeautifulSoup\n",
    "from urllib.request import urlopen"
   ]
  },
  {
   "cell_type": "code",
   "execution_count": 2,
   "metadata": {},
   "outputs": [],
   "source": [
    "url = \"https://movie.naver.com/movie/running/current.nhn\"\n",
    "page = urlopen(url)\n",
    "soup = BeautifulSoup(page, 'lxml')"
   ]
  },
  {
   "cell_type": "code",
   "execution_count": 3,
   "metadata": {},
   "outputs": [
    {
     "data": {
      "text/plain": [
       "130"
      ]
     },
     "execution_count": 3,
     "metadata": {},
     "output_type": "execute_result"
    }
   ],
   "source": [
    "soup_ul_li = soup.find(\"ul\", class_=\"lst_detail_t1\").find_all(\"li\")\n",
    "len(soup_ul_li)"
   ]
  },
  {
   "cell_type": "code",
   "execution_count": 4,
   "metadata": {},
   "outputs": [
    {
     "data": {
      "text/plain": [
       "'컨저링 3: 악마가 시켰다'"
      ]
     },
     "execution_count": 4,
     "metadata": {},
     "output_type": "execute_result"
    }
   ],
   "source": [
    "soup_ul_li[3].find(\"dt\", class_=\"tit\").a.text"
   ]
  },
  {
   "cell_type": "code",
   "execution_count": 6,
   "metadata": {},
   "outputs": [
    {
     "name": "stdout",
     "output_type": "stream",
     "text": [
      "130 ['크루엘라', '콰이어트 플레이스 2', '루카', '컨저링 3: 악마가 시켰다', '극장판 귀멸의 칼날: 무한열차편', '여고괴담 여섯번째 이야기 : 모교', '캐시트럭', '분노의 질주: 더 얼티메이트', '뱅드림! 로젤리아 에피소드Ⅰ: 약속', '파이프라인', '아야와 마녀', '클라이밍', '그레타 툰베리', '그 여름, 가장 차가웠던', '노매드랜드', '야구소녀', '프로페서 앤 매드맨', '혼자 사는 사람들', '굴뚝마을의 푸펠', '애플', '500일의 썸머', '낫아웃', '썰', '인트로덕션', '레이니 데이 인 뉴욕', '까치발', '더 파더', '#위왓치유', '청춘 선거', '중경삼림', '극장판 콩순이: 장난감나라 대모험', '너의 이름은.', '포겟 미 낫-엄마에게 쓰는 편지', '사랑하고 사랑받고 차고 차이고', '크루즈 패밀리: 뉴 에이지', '학교 가는 길', '라이더스 오브 저스티스', '미나리', '화양연화', '명탐정 코난: 비색의 탄환', '강변호텔', '화이트 온 화이트', '도라에몽: 스탠바이미 2', '폭력의 그림자', '쿠사마 야요이: 무한의 세계', '날씨의 아이', '토토리! 우리 둘만의 여름', '언어의 정원', '어른들은 몰라요', '내겐 너무 소중한 너', '강호아녀', '마세티 킬즈', '빅 피쉬', '플래시백', '분노의 질주', '미스피츠', '스쿨 오브 락(樂)', '부활: 그 증거', '분노', '비커밍 아스트리드', '쿠오바디스, 아이다', '흐린 하늘에 웃다', '그을린 사랑', '노 게임 노 라이프 -제로-', '봉쇄수도원 카르투시오', '블루 재스민', '서칭 포 슈가맨', '아들의 이름으로', '억남', '가을 햇살', '간츠: 오', '구름의 저편, 약속의 장소', '그 여름 가장 조용한 바다', '그리고 삶은 계속된다', '꽁치의 맛', '나츠메 우인장: 세상과 연을 맺다', '날으는 해병대', '내 친구의 집은 어디인가', '내언니전지현과 나', '네가 내가 되었으면 좋겠다', '덕구', '도망친 여자', '동경의 황혼', '라스트 씬', '러브 라이브! 선샤인!! 더 스쿨 아이돌 무비 오버 더 레인보우', '러브 액츄얼리', '마스터', '무순, 세상을 가로질러', '문라이즈 킹덤', '미스터 노바디', '바람이 우리를 데려다 주리라', '버티고', '벙어리 삼룡', '별을 쫓는 아이', '소공녀', '소리에 놀라지 않는 사자처럼', '슈퍼노바', '실크 로드', '엔딩 노트', '여름날', '여호', '원더풀 라이프', '유스', '유전', '은혼', '은혼2: 규칙은 깨라고 있는 것', '이별의 아침에 약속의 꽃을 장식하자', '인디언 전사', '전야', '전주에서 길을 묻다', '좋은 빛, 좋은 공기', '찬실이는 복도 많지', '창문넘어 도망친 100세 노인', '천당의 밤과 안개', '체리 향기', '초여름', '타오르는 여인의 초상', '파도를 걷는 소년', '패터슨', '페이트 스테이 나이트 헤븐즈필 제1장 프레시지 플라워', '플로리다 프로젝트', '해피 투게더', '혼자', '화녀', '로슈포르의 숙녀들', '미스 사이공: 25주년 특별 공연', '바그다드 카페 : 디렉터스컷', '쉘부르의 우산', '신 테니스의 왕자 효테이 vs 릿카이 : 게임 오브 퓨처 후편', '오버드라이브']\n"
     ]
    }
   ],
   "source": [
    "all_title = []\n",
    "for item in soup_ul_li:\n",
    "    dat = item.find(\"dt\", class_=\"tit\").a.text\n",
    "    all_title.append(dat)\n",
    "print(len(all_title), all_title)"
   ]
  },
  {
   "cell_type": "code",
   "execution_count": 7,
   "metadata": {},
   "outputs": [
    {
     "data": {
      "text/plain": [
       "'8.19'"
      ]
     },
     "execution_count": 7,
     "metadata": {},
     "output_type": "execute_result"
    }
   ],
   "source": [
    "soup_ul_li[70].find(\"span\", class_=\"num\").text"
   ]
  },
  {
   "cell_type": "code",
   "execution_count": 8,
   "metadata": {},
   "outputs": [
    {
     "data": {
      "text/plain": [
       "'4,636'"
      ]
     },
     "execution_count": 8,
     "metadata": {},
     "output_type": "execute_result"
    }
   ],
   "source": [
    "soup_ul_li[0].find(\"em\").text"
   ]
  },
  {
   "cell_type": "code",
   "execution_count": 9,
   "metadata": {},
   "outputs": [
    {
     "data": {
      "text/plain": [
       "'7.24'"
      ]
     },
     "execution_count": 9,
     "metadata": {},
     "output_type": "execute_result"
    }
   ],
   "source": [
    "soup_ul_li[3].find(\"dl\", class_=\"info_exp\").span.text"
   ]
  },
  {
   "cell_type": "code",
   "execution_count": 10,
   "metadata": {},
   "outputs": [
    {
     "name": "stdout",
     "output_type": "stream",
     "text": [
      "129\n"
     ]
    },
    {
     "data": {
      "text/plain": [
       "[]"
      ]
     },
     "execution_count": 10,
     "metadata": {},
     "output_type": "execute_result"
    }
   ],
   "source": [
    "length = len(soup_ul_li) - 1\n",
    "print(length)\n",
    "last_element = soup_ul_li[length].find_all(\"dl\", class_=\"info_exp\")\n",
    "last_element"
   ]
  },
  {
   "cell_type": "code",
   "execution_count": 26,
   "metadata": {},
   "outputs": [
    {
     "ename": "NameError",
     "evalue": "name 'one_title' is not defined",
     "output_type": "error",
     "traceback": [
      "\u001b[1;31m---------------------------------------------------------------------------\u001b[0m",
      "\u001b[1;31mNameError\u001b[0m                                 Traceback (most recent call last)",
      "\u001b[1;32m<ipython-input-26-1454779ebe18>\u001b[0m in \u001b[0;36m<module>\u001b[1;34m\u001b[0m\n\u001b[0;32m     22\u001b[0m     \u001b[0mone_director\u001b[0m \u001b[1;33m=\u001b[0m \u001b[0mone_director\u001b[0m\u001b[1;33m.\u001b[0m\u001b[0mtranslate\u001b[0m\u001b[1;33m(\u001b[0m  \u001b[1;33m{\u001b[0m \u001b[0mord\u001b[0m\u001b[1;33m(\u001b[0m\u001b[1;34m'\\n'\u001b[0m\u001b[1;33m)\u001b[0m\u001b[1;33m:\u001b[0m\u001b[1;34m\"\"\u001b[0m\u001b[1;33m,\u001b[0m \u001b[0mord\u001b[0m\u001b[1;33m(\u001b[0m\u001b[1;34m'\\r'\u001b[0m\u001b[1;33m)\u001b[0m\u001b[1;33m:\u001b[0m\u001b[1;34m\"\"\u001b[0m\u001b[1;33m,\u001b[0m \u001b[0mord\u001b[0m\u001b[1;33m(\u001b[0m\u001b[1;34m'\\t'\u001b[0m\u001b[1;33m)\u001b[0m\u001b[1;33m:\u001b[0m\u001b[1;34m\"\"\u001b[0m\u001b[1;33m}\u001b[0m \u001b[1;33m)\u001b[0m\u001b[1;33m\u001b[0m\u001b[1;33m\u001b[0m\u001b[0m\n\u001b[0;32m     23\u001b[0m \u001b[1;33m\u001b[0m\u001b[0m\n\u001b[1;32m---> 24\u001b[1;33m     \u001b[0mall_title\u001b[0m\u001b[1;33m.\u001b[0m\u001b[0mappend\u001b[0m\u001b[1;33m(\u001b[0m\u001b[0mone_title\u001b[0m\u001b[1;33m)\u001b[0m\u001b[1;33m\u001b[0m\u001b[1;33m\u001b[0m\u001b[0m\n\u001b[0m\u001b[0;32m     25\u001b[0m     \u001b[0mall_score\u001b[0m\u001b[1;33m.\u001b[0m\u001b[0mappend\u001b[0m\u001b[1;33m(\u001b[0m\u001b[0mone_score\u001b[0m\u001b[1;33m)\u001b[0m\u001b[1;33m\u001b[0m\u001b[1;33m\u001b[0m\u001b[0m\n\u001b[0;32m     26\u001b[0m     \u001b[0mall_people\u001b[0m\u001b[1;33m.\u001b[0m\u001b[0mappend\u001b[0m\u001b[1;33m(\u001b[0m\u001b[0mone_people\u001b[0m\u001b[1;33m)\u001b[0m\u001b[1;33m\u001b[0m\u001b[1;33m\u001b[0m\u001b[0m\n",
      "\u001b[1;31mNameError\u001b[0m: name 'one_title' is not defined"
     ]
    }
   ],
   "source": [
    "souo_ul_li= soup.find(\"ul\", class_=\"lst_detail_t1\").find_all(\"li\")\n",
    "\n",
    "\n",
    "all_title = []\n",
    "all_score = []\n",
    "all_people = []\n",
    "all_rate = []\n",
    "\n",
    "for item in soup_ul_li:\n",
    "    all_title.append(item.find(\"dt\", class_=\"tit\").a.text) # 제목\n",
    "    all_score.append(item.find(\"span\", class_=\"num\").text) # 평점\n",
    "    all_people.append(item.find(\"em\").text) # 참여명수\n",
    "## 예매율\n",
    "    temp_re_rate = item.find(\"dl\", class_=\"info_exp\")\n",
    "    if temp_re_rate is not None:\n",
    "        ticking = temp_re_rate.find('span', class_='num').text\n",
    "    else:\n",
    "        ticking = \"0\"\n",
    "    all_re_rate.append(ticking)\n",
    "    \n",
    "    one_director = one.find(\"dl\", class_=\"info_txt1\").findAll(\"dd\")[1].text\n",
    "    one_director = one_director.translate(  { ord('\\n'):\"\", ord('\\r'):\"\", ord('\\t'):\"\"} )\n",
    "    \n",
    "    all_title.append(one_title)\n",
    "    all_score.append(one_score)\n",
    "    all_people.append(one_people)\n",
    "    all_rate.append(one_rate)\n",
    "    all_director.append(one_director)\n",
    "    \n",
    "    \n",
    "    \n",
    "print(len(all_date), len(all_score), len(all_people))\n",
    "print(all_title)\n",
    "print(all_score)\n",
    "print(all_people)\n",
    "print(all_director)"
   ]
  },
  {
   "cell_type": "code",
   "execution_count": null,
   "metadata": {},
   "outputs": [],
   "source": []
  }
 ],
 "metadata": {
  "kernelspec": {
   "display_name": "Python 3",
   "language": "python",
   "name": "python3"
  },
  "language_info": {
   "codemirror_mode": {
    "name": "ipython",
    "version": 3
   },
   "file_extension": ".py",
   "mimetype": "text/x-python",
   "name": "python",
   "nbconvert_exporter": "python",
   "pygments_lexer": "ipython3",
   "version": "3.8.5"
  }
 },
 "nbformat": 4,
 "nbformat_minor": 4
}
